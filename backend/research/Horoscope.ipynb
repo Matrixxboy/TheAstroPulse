{
 "cells": [
  {
   "cell_type": "markdown",
   "id": "54ac1e60",
   "metadata": {},
   "source": [
    "some useful library"
   ]
  },
  {
   "cell_type": "code",
   "execution_count": 22,
   "id": "baf0dc7d",
   "metadata": {},
   "outputs": [],
   "source": [
    "import gradio as gr\n",
    "import requests\n",
    "from bs4 import BeautifulSoup\n",
    "from datetime import datetime "
   ]
  },
  {
   "cell_type": "markdown",
   "id": "5fd24bae",
   "metadata": {},
   "source": [
    "zodic sign mapping according to the \"https://www.horoscope.com/\""
   ]
  },
  {
   "cell_type": "code",
   "execution_count": 23,
   "id": "7677b51e",
   "metadata": {},
   "outputs": [],
   "source": [
    "zodic_mapping = {\n",
    "    \"Aries\":1,\n",
    "    \"Taurus\":2,\n",
    "    \"Gemini\":3,\n",
    "    \"Cancer\":4,\n",
    "    \"Leo\":5,\n",
    "    \"Virgo\":6,\n",
    "    \"Libra\":7,\n",
    "    \"Scorpio\":8,\n",
    "    \"Sagittarius\":9,\n",
    "    \"Capricorn\":10,\n",
    "    \"Aquarius\":11,\n",
    "    \"Pisces\":12\n",
    "}"
   ]
  },
  {
   "cell_type": "markdown",
   "id": "cdb07825",
   "metadata": {},
   "source": [
    "All zodic end date "
   ]
  },
  {
   "cell_type": "code",
   "execution_count": 24,
   "id": "3f1a2fc1",
   "metadata": {},
   "outputs": [],
   "source": [
    "def get_zodic_sign(dob):\n",
    "    month,day = dob.month,dob.day \n",
    "    zodic_dates = [\n",
    "        (1, 19, \"Capricorn\"),\n",
    "        (2, 18, \"Aquarius\"),\n",
    "        (3, 20, \"Pisces\"),\n",
    "        (4, 19, \"Aries\"),\n",
    "        (5, 20, \"Taurus\"),\n",
    "        (6, 20, \"Gemini\"),\n",
    "        (7, 22, \"Cancer\"),\n",
    "        (8, 22, \"Leo\"),\n",
    "        (9, 22, \"Virgo\"),\n",
    "        (10, 22, \"Libra\"),\n",
    "        (11, 21, \"Scorpio\"),\n",
    "        (12, 21, \"Sagittarius\")\n",
    "    ]\n",
    "    for end_month , end_day , sign in zodic_dates:\n",
    "        if(month<end_month) or (month == end_month and day<=end_day):\n",
    "            return sign\n",
    "        return \"Capricorn\""
   ]
  },
  {
   "cell_type": "markdown",
   "id": "9665e6b3",
   "metadata": {},
   "source": [
    "Fetching the zodic sing from the date of birth"
   ]
  },
  {
   "cell_type": "code",
   "execution_count": 33,
   "id": "3f9eb7e8",
   "metadata": {},
   "outputs": [],
   "source": [
    "def fetch_horoscope (dob_str , day):\n",
    "    try:\n",
    "        dob = datetime.strptime(dob_str,\"%Y-%m-%d\")\n",
    "    except Exception as e:\n",
    "        print(f\"error (date) : {e}\")\n",
    "        return\n",
    "    \n",
    "    zodic_sign = get_zodic_sign(dob)\n",
    "    sign_number = zodic_mapping[zodic_sign]\n",
    "    \n",
    "    url =f\"https://www.horoscope.com/us/horoscopes/general/horoscope-general-daily-{day}.aspx?sign={sign_number}\"\n",
    "    \n",
    "    \n",
    "    response = requests.get(url)\n",
    "    \n",
    "    soup = BeautifulSoup(response.content , \"html.parser\")\n",
    "    \n",
    "    horoscope_text = soup.find(\"div\",class_=\"main-horoscope\")\n",
    "    \n",
    "    if horoscope_text:\n",
    "        return f\"\\n Your Zodic Sign {zodic_sign}\\n\\n Your {day} horoscope : \\n {horoscope_text.p.get_text(strip=True)}\"\n",
    "    \n",
    "    return \"fetching error\""
   ]
  },
  {
   "cell_type": "code",
   "execution_count": 34,
   "id": "3700e097",
   "metadata": {},
   "outputs": [
    {
     "data": {
      "text/plain": [
       "\"\\n Your Zodic Sign Capricorn\\n\\n Your tomorrow horoscope : \\n Jun 16, 2025- You're likely to enjoy a change in the rhythm and quality of life, beginning right now, Capricorn. Do you feel a need to take your friendships beyond superficiality? Perhaps you should reestablish contact with some past friends. After a hiatus, you may have some bonds to repair. You can expect another period devoted to sweeping the cobwebs out of your emotional life and letting in light and promise.\""
      ]
     },
     "execution_count": 34,
     "metadata": {},
     "output_type": "execute_result"
    }
   ],
   "source": [
    "fetch_horoscope(\"2004-07-14\",\"tomorrow\")"
   ]
  }
 ],
 "metadata": {
  "kernelspec": {
   "display_name": "venv",
   "language": "python",
   "name": "python3"
  },
  "language_info": {
   "codemirror_mode": {
    "name": "ipython",
    "version": 3
   },
   "file_extension": ".py",
   "mimetype": "text/x-python",
   "name": "python",
   "nbconvert_exporter": "python",
   "pygments_lexer": "ipython3",
   "version": "3.13.3"
  }
 },
 "nbformat": 4,
 "nbformat_minor": 5
}
